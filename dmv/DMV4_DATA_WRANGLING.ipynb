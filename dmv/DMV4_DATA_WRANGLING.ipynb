{
 "cells": [
  {
   "cell_type": "markdown",
   "id": "c3f87362",
   "metadata": {},
   "source": [
    "# Data Wrangling \n",
    "\n",
    "Problem Statement: Data Wrangling on Real Estate Market \n",
    "Dataset: \"RealEstate_Prices.csv\" \n",
    "Description: The dataset contains information about housing prices in a specific real estate \n",
    "market. It includes various attributes such as property characteristics, location, sale prices, \n",
    "and other relevant features. The goal is to perform data wrangling to gain insights into the \n",
    "factors influencing housing prices and prepare the dataset for further analysis or modeling. \n",
    "Tasks to Perform: \n",
    "1.  Import the \"RealEstate_Prices.csv\" dataset. Clean column names by removing spaces, special characters, or renaming them for clarity. \n",
    "2. Handle missing values in the dataset, deciding on an appropriate strategy (e.g., imputation or removal). \n",
    "3. Perform data merging if additional datasets with relevant information are available (e.g., neighborhood demographics or nearby amenities). \n",
    "4. Filter and subset the data based on specific criteria, such as a particular time period, property type, or location. \n",
    "5. Handle categorical variables by encoding them appropriately (e.g., one-hot encoding or label encoding) for further analysis. \n",
    "6.  Aggregate the data to calculate summary statistics or derived metrics such as average sale prices by neighborhood or property type. \n",
    "7. Identify and handle outliers or extreme values in the data that may affect the analysis or modeling process. "
   ]
  },
  {
   "cell_type": "markdown",
   "id": "54ea9da3",
   "metadata": {},
   "source": [
    "### 1. Import the \"RealEstate_Prices.csv\" dataset. Clean column names by removing spaces, special characters, or renaming them for clarity."
   ]
  },
  {
   "cell_type": "code",
   "execution_count": 1,
   "id": "08a53c43",
   "metadata": {},
   "outputs": [],
   "source": [
    "import pandas as pd\n",
    "df= pd.read_csv('Real estate.csv')"
   ]
  },
  {
   "cell_type": "code",
   "execution_count": 2,
   "id": "e1e9f3db",
   "metadata": {},
   "outputs": [
    {
     "data": {
      "text/html": [
       "<div>\n",
       "<style scoped>\n",
       "    .dataframe tbody tr th:only-of-type {\n",
       "        vertical-align: middle;\n",
       "    }\n",
       "\n",
       "    .dataframe tbody tr th {\n",
       "        vertical-align: top;\n",
       "    }\n",
       "\n",
       "    .dataframe thead th {\n",
       "        text-align: right;\n",
       "    }\n",
       "</style>\n",
       "<table border=\"1\" class=\"dataframe\">\n",
       "  <thead>\n",
       "    <tr style=\"text-align: right;\">\n",
       "      <th></th>\n",
       "      <th>No</th>\n",
       "      <th>X1 transaction date</th>\n",
       "      <th>X2 house age</th>\n",
       "      <th>X3 distance to the nearest MRT station</th>\n",
       "      <th>X4 number of convenience stores</th>\n",
       "      <th>X5 latitude</th>\n",
       "      <th>X6 longitude</th>\n",
       "      <th>Y house price of unit area</th>\n",
       "    </tr>\n",
       "  </thead>\n",
       "  <tbody>\n",
       "    <tr>\n",
       "      <th>0</th>\n",
       "      <td>1</td>\n",
       "      <td>2012.917</td>\n",
       "      <td>32.0</td>\n",
       "      <td>84.87882</td>\n",
       "      <td>10</td>\n",
       "      <td>24.98298</td>\n",
       "      <td>121.54024</td>\n",
       "      <td>37.9</td>\n",
       "    </tr>\n",
       "    <tr>\n",
       "      <th>1</th>\n",
       "      <td>2</td>\n",
       "      <td>2012.917</td>\n",
       "      <td>19.5</td>\n",
       "      <td>306.59470</td>\n",
       "      <td>9</td>\n",
       "      <td>24.98034</td>\n",
       "      <td>121.53951</td>\n",
       "      <td>42.2</td>\n",
       "    </tr>\n",
       "    <tr>\n",
       "      <th>2</th>\n",
       "      <td>3</td>\n",
       "      <td>2013.583</td>\n",
       "      <td>13.3</td>\n",
       "      <td>561.98450</td>\n",
       "      <td>5</td>\n",
       "      <td>24.98746</td>\n",
       "      <td>121.54391</td>\n",
       "      <td>47.3</td>\n",
       "    </tr>\n",
       "    <tr>\n",
       "      <th>3</th>\n",
       "      <td>4</td>\n",
       "      <td>2013.500</td>\n",
       "      <td>13.3</td>\n",
       "      <td>561.98450</td>\n",
       "      <td>5</td>\n",
       "      <td>24.98746</td>\n",
       "      <td>121.54391</td>\n",
       "      <td>54.8</td>\n",
       "    </tr>\n",
       "    <tr>\n",
       "      <th>4</th>\n",
       "      <td>5</td>\n",
       "      <td>2012.833</td>\n",
       "      <td>5.0</td>\n",
       "      <td>390.56840</td>\n",
       "      <td>5</td>\n",
       "      <td>24.97937</td>\n",
       "      <td>121.54245</td>\n",
       "      <td>43.1</td>\n",
       "    </tr>\n",
       "  </tbody>\n",
       "</table>\n",
       "</div>"
      ],
      "text/plain": [
       "   No  X1 transaction date  X2 house age  \\\n",
       "0   1             2012.917          32.0   \n",
       "1   2             2012.917          19.5   \n",
       "2   3             2013.583          13.3   \n",
       "3   4             2013.500          13.3   \n",
       "4   5             2012.833           5.0   \n",
       "\n",
       "   X3 distance to the nearest MRT station  X4 number of convenience stores  \\\n",
       "0                                84.87882                               10   \n",
       "1                               306.59470                                9   \n",
       "2                               561.98450                                5   \n",
       "3                               561.98450                                5   \n",
       "4                               390.56840                                5   \n",
       "\n",
       "   X5 latitude  X6 longitude  Y house price of unit area  \n",
       "0     24.98298     121.54024                        37.9  \n",
       "1     24.98034     121.53951                        42.2  \n",
       "2     24.98746     121.54391                        47.3  \n",
       "3     24.98746     121.54391                        54.8  \n",
       "4     24.97937     121.54245                        43.1  "
      ]
     },
     "execution_count": 2,
     "metadata": {},
     "output_type": "execute_result"
    }
   ],
   "source": [
    "df.head()"
   ]
  },
  {
   "cell_type": "code",
   "execution_count": 5,
   "id": "73358b1b",
   "metadata": {},
   "outputs": [],
   "source": [
    "df.columns=df.columns.str.replace(' ','_').str.replace('a-zA-Z0-9','',regex=True).str.lower()"
   ]
  },
  {
   "cell_type": "code",
   "execution_count": 6,
   "id": "4c294cdc",
   "metadata": {},
   "outputs": [
    {
     "data": {
      "text/html": [
       "<div>\n",
       "<style scoped>\n",
       "    .dataframe tbody tr th:only-of-type {\n",
       "        vertical-align: middle;\n",
       "    }\n",
       "\n",
       "    .dataframe tbody tr th {\n",
       "        vertical-align: top;\n",
       "    }\n",
       "\n",
       "    .dataframe thead th {\n",
       "        text-align: right;\n",
       "    }\n",
       "</style>\n",
       "<table border=\"1\" class=\"dataframe\">\n",
       "  <thead>\n",
       "    <tr style=\"text-align: right;\">\n",
       "      <th></th>\n",
       "      <th>no</th>\n",
       "      <th>x1_transaction_date</th>\n",
       "      <th>x2_house_age</th>\n",
       "      <th>x3_distance_to_the_nearest_mrt_station</th>\n",
       "      <th>x4_number_of_convenience_stores</th>\n",
       "      <th>x5_latitude</th>\n",
       "      <th>x6_longitude</th>\n",
       "      <th>y_house_price_of_unit_area</th>\n",
       "    </tr>\n",
       "  </thead>\n",
       "  <tbody>\n",
       "    <tr>\n",
       "      <th>0</th>\n",
       "      <td>1</td>\n",
       "      <td>2012.917</td>\n",
       "      <td>32.0</td>\n",
       "      <td>84.87882</td>\n",
       "      <td>10</td>\n",
       "      <td>24.98298</td>\n",
       "      <td>121.54024</td>\n",
       "      <td>37.9</td>\n",
       "    </tr>\n",
       "    <tr>\n",
       "      <th>1</th>\n",
       "      <td>2</td>\n",
       "      <td>2012.917</td>\n",
       "      <td>19.5</td>\n",
       "      <td>306.59470</td>\n",
       "      <td>9</td>\n",
       "      <td>24.98034</td>\n",
       "      <td>121.53951</td>\n",
       "      <td>42.2</td>\n",
       "    </tr>\n",
       "    <tr>\n",
       "      <th>2</th>\n",
       "      <td>3</td>\n",
       "      <td>2013.583</td>\n",
       "      <td>13.3</td>\n",
       "      <td>561.98450</td>\n",
       "      <td>5</td>\n",
       "      <td>24.98746</td>\n",
       "      <td>121.54391</td>\n",
       "      <td>47.3</td>\n",
       "    </tr>\n",
       "    <tr>\n",
       "      <th>3</th>\n",
       "      <td>4</td>\n",
       "      <td>2013.500</td>\n",
       "      <td>13.3</td>\n",
       "      <td>561.98450</td>\n",
       "      <td>5</td>\n",
       "      <td>24.98746</td>\n",
       "      <td>121.54391</td>\n",
       "      <td>54.8</td>\n",
       "    </tr>\n",
       "    <tr>\n",
       "      <th>4</th>\n",
       "      <td>5</td>\n",
       "      <td>2012.833</td>\n",
       "      <td>5.0</td>\n",
       "      <td>390.56840</td>\n",
       "      <td>5</td>\n",
       "      <td>24.97937</td>\n",
       "      <td>121.54245</td>\n",
       "      <td>43.1</td>\n",
       "    </tr>\n",
       "  </tbody>\n",
       "</table>\n",
       "</div>"
      ],
      "text/plain": [
       "   no  x1_transaction_date  x2_house_age  \\\n",
       "0   1             2012.917          32.0   \n",
       "1   2             2012.917          19.5   \n",
       "2   3             2013.583          13.3   \n",
       "3   4             2013.500          13.3   \n",
       "4   5             2012.833           5.0   \n",
       "\n",
       "   x3_distance_to_the_nearest_mrt_station  x4_number_of_convenience_stores  \\\n",
       "0                                84.87882                               10   \n",
       "1                               306.59470                                9   \n",
       "2                               561.98450                                5   \n",
       "3                               561.98450                                5   \n",
       "4                               390.56840                                5   \n",
       "\n",
       "   x5_latitude  x6_longitude  y_house_price_of_unit_area  \n",
       "0     24.98298     121.54024                        37.9  \n",
       "1     24.98034     121.53951                        42.2  \n",
       "2     24.98746     121.54391                        47.3  \n",
       "3     24.98746     121.54391                        54.8  \n",
       "4     24.97937     121.54245                        43.1  "
      ]
     },
     "execution_count": 6,
     "metadata": {},
     "output_type": "execute_result"
    }
   ],
   "source": [
    "df.head()"
   ]
  },
  {
   "cell_type": "markdown",
   "id": "4ae5ac8d",
   "metadata": {},
   "source": [
    "###  2. Handle missing values in the dataset, deciding on an appropriate strategy (e.g., imputation or removal). "
   ]
  },
  {
   "cell_type": "code",
   "execution_count": 10,
   "id": "526d80cc",
   "metadata": {},
   "outputs": [
    {
     "data": {
      "text/plain": [
       "no                                        0\n",
       "x1_transaction_date                       0\n",
       "x2_house_age                              0\n",
       "x3_distance_to_the_nearest_mrt_station    0\n",
       "x4_number_of_convenience_stores           0\n",
       "x5_latitude                               0\n",
       "x6_longitude                              0\n",
       "y_house_price_of_unit_area                0\n",
       "dtype: int64"
      ]
     },
     "execution_count": 10,
     "metadata": {},
     "output_type": "execute_result"
    }
   ],
   "source": [
    "df.isnull().sum()"
   ]
  },
  {
   "cell_type": "code",
   "execution_count": 11,
   "id": "d51b2f50",
   "metadata": {},
   "outputs": [],
   "source": [
    "# Option 2: Impute missing values (example using mean for numerical columns)\n",
    "df.fillna(df.mean(), inplace=True)"
   ]
  },
  {
   "cell_type": "markdown",
   "id": "150b8167",
   "metadata": {},
   "source": [
    "### 3.  Perform data merging if additional datasets with relevant information are available (e.g., neighborhood demographics or nearby amenities). "
   ]
  },
  {
   "cell_type": "code",
   "execution_count": 12,
   "id": "a96630c7",
   "metadata": {},
   "outputs": [],
   "source": [
    "# Example of merging with another dataset\n",
    "# demographics_df = pd.read_csv('Neighborhood_Demographics.csv')\n",
    "# df = df.merge(demographics_df, on='neighborhood', how='left')\n"
   ]
  },
  {
   "cell_type": "markdown",
   "id": "a29e4295",
   "metadata": {},
   "source": [
    "### 4.Filter and subset the data based on specific criteria, such as a particular time period, property type, or location. "
   ]
  },
  {
   "cell_type": "code",
   "execution_count": 15,
   "id": "206ece12",
   "metadata": {},
   "outputs": [],
   "source": [
    "df_filtered = df[df['x2_house_age'] < 10]  # Houses younger than 10 years"
   ]
  },
  {
   "cell_type": "code",
   "execution_count": 17,
   "id": "1f5782b9",
   "metadata": {},
   "outputs": [],
   "source": [
    "# Filter by transaction date (assuming 'transaction_date' is in datetime format)\n",
    "df['x1_transaction_date'] = pd.to_datetime(df['x1_transaction_date'])\n",
    "df_filtered = df[(df['x1_transaction_date'] >= '2020-01-01') & (df['x1_transaction_date'] <= '2020-12-31')]"
   ]
  },
  {
   "cell_type": "markdown",
   "id": "2e3987f9",
   "metadata": {},
   "source": [
    "### 5.Handle categorical variables by encoding them appropriately (e.g., one-hot encoding or label encoding) for further analysis. "
   ]
  },
  {
   "cell_type": "code",
   "execution_count": 18,
   "id": "7fd0e9b3",
   "metadata": {},
   "outputs": [],
   "source": [
    "\n",
    "# If you have ordinal variables, you might prefer Label Encoding\n",
    "# from sklearn.preprocessing import LabelEncoder\n",
    "# le = LabelEncoder()\n",
    "# df['property_type'] = le.fit_transform(df['property_type'])"
   ]
  },
  {
   "cell_type": "markdown",
   "id": "00e6a483",
   "metadata": {},
   "source": [
    "### 6.Agregating "
   ]
  },
  {
   "cell_type": "code",
   "execution_count": 19,
   "id": "60c26b42",
   "metadata": {},
   "outputs": [
    {
     "name": "stdout",
     "output_type": "stream",
     "text": [
      "  age_group  y_house_price_of_unit_area\n",
      "0      0-10                   45.232258\n",
      "1     10-20                   34.138323\n",
      "2     20-30                   31.195349\n",
      "3     30-40                   36.794186\n",
      "4     40-50                   48.762500\n",
      "5       50+                         NaN\n"
     ]
    }
   ],
   "source": [
    "# Create age groups\n",
    "df['age_group'] = pd.cut(df['x2_house_age'], bins=[0, 10, 20, 30, 40, 50, 100], labels=['0-10', '10-20', '20-30', '30-40', '40-50', '50+'])\n",
    "\n",
    "# Calculate average unit price by age group\n",
    "avg_price_by_age = df.groupby('age_group')['y_house_price_of_unit_area'].mean().reset_index()\n",
    "print(avg_price_by_age)"
   ]
  },
  {
   "cell_type": "code",
   "execution_count": 20,
   "id": "4a5f504f",
   "metadata": {},
   "outputs": [],
   "source": [
    "# Average Price by Convenience Store Availability:"
   ]
  },
  {
   "cell_type": "code",
   "execution_count": 21,
   "id": "25812381",
   "metadata": {},
   "outputs": [
    {
     "name": "stdout",
     "output_type": "stream",
     "text": [
      "    x4_number_of_convenience_stores  y_house_price_of_unit_area\n",
      "0                                 0                   26.462687\n",
      "1                                 1                   31.839130\n",
      "2                                 2                   31.412500\n",
      "3                                 3                   29.536957\n",
      "4                                 4                   37.474194\n",
      "5                                 5                   44.729851\n",
      "6                                 6                   46.951351\n",
      "7                                 7                   43.848387\n",
      "8                                 8                   44.696667\n",
      "9                                 9                   51.732000\n",
      "10                               10                   48.430000\n"
     ]
    }
   ],
   "source": [
    "avg_price_by_convenience = df.groupby('x4_number_of_convenience_stores')['y_house_price_of_unit_area'].mean().reset_index()\n",
    "print(avg_price_by_convenience)"
   ]
  },
  {
   "cell_type": "markdown",
   "id": "9d73be4c",
   "metadata": {},
   "source": [
    "### 7.Identifying and Handling Outliers"
   ]
  },
  {
   "cell_type": "code",
   "execution_count": 22,
   "id": "6cdb18e5",
   "metadata": {},
   "outputs": [
    {
     "name": "stdout",
     "output_type": "stream",
     "text": [
      "Number of rows before removing outliers: 414\n",
      "Number of rows after removing outliers: 411\n"
     ]
    }
   ],
   "source": [
    "# Calculate Q1 (25th percentile) and Q3 (75th percentile)\n",
    "Q1 = df['y_house_price_of_unit_area'].quantile(0.25)\n",
    "Q3 = df['y_house_price_of_unit_area'].quantile(0.75)\n",
    "IQR = Q3 - Q1\n",
    "\n",
    "# Define outlier bounds\n",
    "lower_bound = Q1 - 1.5 * IQR\n",
    "upper_bound = Q3 + 1.5 * IQR\n",
    "\n",
    "# Filter out the outliers in the unit price column\n",
    "df_no_outliers = df[(df['y_house_price_of_unit_area'] >= lower_bound) & (df['y_house_price_of_unit_area'] <= upper_bound)]\n",
    "\n",
    "print(f\"Number of rows before removing outliers: {len(df)}\")\n",
    "print(f\"Number of rows after removing outliers: {len(df_no_outliers)}\")\n"
   ]
  },
  {
   "cell_type": "code",
   "execution_count": 23,
   "id": "65fd2df7",
   "metadata": {},
   "outputs": [
    {
     "data": {
      "text/plain": [
       "414"
      ]
     },
     "execution_count": 23,
     "metadata": {},
     "output_type": "execute_result"
    }
   ],
   "source": [
    "len(df)"
   ]
  },
  {
   "cell_type": "code",
   "execution_count": null,
   "id": "d7d5db62",
   "metadata": {},
   "outputs": [],
   "source": []
  }
 ],
 "metadata": {
  "kernelspec": {
   "display_name": "Python 3 (ipykernel)",
   "language": "python",
   "name": "python3"
  },
  "language_info": {
   "codemirror_mode": {
    "name": "ipython",
    "version": 3
   },
   "file_extension": ".py",
   "mimetype": "text/x-python",
   "name": "python",
   "nbconvert_exporter": "python",
   "pygments_lexer": "ipython3",
   "version": "3.11.4"
  }
 },
 "nbformat": 4,
 "nbformat_minor": 5
}
