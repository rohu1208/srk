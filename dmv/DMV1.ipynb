{
 "cells": [
  {
   "cell_type": "markdown",
   "id": "7818c234",
   "metadata": {},
   "source": [
    "# Data Loading, Storage and File Formats \n",
    "\n",
    "Problem Statement: Analyzing Sales Data from Multiple File Formats \n",
    "Dataset: Sales data in multiple file formats (e.g., CSV, Excel, JSON) \n",
    "Description: The goal is to load and analyze sales data from different file formats, including \n",
    "CSV, Excel, and JSON, and perform data cleaning, transformation, and analysis on the \n",
    "dataset. \n",
    "  \n",
    "Tasks to Perform: \n",
    "\n",
    " Obtain sales data files in various formats, such as CSV, Excel, and JSON. \n",
    " \n",
    "1. Load the sales data from each file format into the appropriate data structures or \n",
    "   dataframes.\n",
    "   \n",
    "2. Explore the structure and content of the loaded data, identifying any inconsistencies, \n",
    "   missing values, or data quality issues. \n",
    "   \n",
    "3. Perform data cleaning operations, such as handling missing values, removing \n",
    "   duplicates, or correcting inconsistencies. \n",
    "   \n",
    "4. Convert the data into a unified format, such as a common dataframe or data structure, \n",
    "   to enable seamless analysis. \n",
    "   \n",
    "5. Perform data transformation tasks, such as merging multiple datasets, splitting \n",
    "   columns, or deriving new variables. \n",
    "   \n",
    "6. Analyze the sales data by performing descriptive statistics, aggregating data by \n",
    "   specific variables, or calculating metrics such as total sales, average order value, or \n",
    "   product category distribution. \n",
    "   \n",
    "7. Create visualizations, such as bar plots, pie charts, or box plots, to represent the sales \n",
    "   data and gain insights into sales trends, customer behavior, or product performance. "
   ]
  },
  {
   "cell_type": "markdown",
   "id": "065ec508",
   "metadata": {},
   "source": [
    "# 1 Load the sales data from each file format into the appropriate data structures or dataframes."
   ]
  },
  {
   "cell_type": "code",
   "execution_count": 1,
   "id": "3aa100c4",
   "metadata": {},
   "outputs": [],
   "source": [
    "import pandas as pd"
   ]
  },
  {
   "cell_type": "code",
   "execution_count": 2,
   "id": "652d5d89",
   "metadata": {},
   "outputs": [],
   "source": [
    "import numpy as np"
   ]
  },
  {
   "cell_type": "code",
   "execution_count": 4,
   "id": "50c95e28",
   "metadata": {},
   "outputs": [],
   "source": [
    "csv= pd.read_csv('customers.csv')"
   ]
  },
  {
   "cell_type": "code",
   "execution_count": 9,
   "id": "5701ccc2",
   "metadata": {},
   "outputs": [],
   "source": [
    "xl= pd.read_excel('customers.xlsx')"
   ]
  },
  {
   "cell_type": "markdown",
   "id": "60a76aa9",
   "metadata": {},
   "source": [
    "# 2. Explore the structure and content of the loaded data, identifying any inconsistencies, missing values, or data quality issues."
   ]
  },
  {
   "cell_type": "code",
   "execution_count": 11,
   "id": "286b56db",
   "metadata": {},
   "outputs": [
    {
     "name": "stdout",
     "output_type": "stream",
     "text": [
      "<class 'pandas.core.frame.DataFrame'>\n",
      "RangeIndex: 1000 entries, 0 to 999\n",
      "Data columns (total 13 columns):\n",
      " #   Column      Non-Null Count  Dtype  \n",
      "---  ------      --------------  -----  \n",
      " 0   first_name  1000 non-null   object \n",
      " 1   last_name   1000 non-null   object \n",
      " 2   email       1000 non-null   object \n",
      " 3   phone       1000 non-null   object \n",
      " 4   address     1000 non-null   object \n",
      " 5   gender      1000 non-null   object \n",
      " 6   age         1000 non-null   int64  \n",
      " 7   registered  1000 non-null   object \n",
      " 8   orders      1000 non-null   int64  \n",
      " 9   spent       1000 non-null   float64\n",
      " 10  job         1000 non-null   object \n",
      " 11  hobbies     1000 non-null   object \n",
      " 12  is_married  1000 non-null   bool   \n",
      "dtypes: bool(1), float64(1), int64(2), object(9)\n",
      "memory usage: 94.9+ KB\n"
     ]
    },
    {
     "data": {
      "text/html": [
       "<div>\n",
       "<style scoped>\n",
       "    .dataframe tbody tr th:only-of-type {\n",
       "        vertical-align: middle;\n",
       "    }\n",
       "\n",
       "    .dataframe tbody tr th {\n",
       "        vertical-align: top;\n",
       "    }\n",
       "\n",
       "    .dataframe thead th {\n",
       "        text-align: right;\n",
       "    }\n",
       "</style>\n",
       "<table border=\"1\" class=\"dataframe\">\n",
       "  <thead>\n",
       "    <tr style=\"text-align: right;\">\n",
       "      <th></th>\n",
       "      <th>age</th>\n",
       "      <th>orders</th>\n",
       "      <th>spent</th>\n",
       "    </tr>\n",
       "  </thead>\n",
       "  <tbody>\n",
       "    <tr>\n",
       "      <th>count</th>\n",
       "      <td>1000.00000</td>\n",
       "      <td>1000.000000</td>\n",
       "      <td>1000.000000</td>\n",
       "    </tr>\n",
       "    <tr>\n",
       "      <th>mean</th>\n",
       "      <td>48.14500</td>\n",
       "      <td>10.036000</td>\n",
       "      <td>496.295100</td>\n",
       "    </tr>\n",
       "    <tr>\n",
       "      <th>std</th>\n",
       "      <td>18.35246</td>\n",
       "      <td>6.175665</td>\n",
       "      <td>289.229235</td>\n",
       "    </tr>\n",
       "    <tr>\n",
       "      <th>min</th>\n",
       "      <td>18.00000</td>\n",
       "      <td>0.000000</td>\n",
       "      <td>0.490000</td>\n",
       "    </tr>\n",
       "    <tr>\n",
       "      <th>25%</th>\n",
       "      <td>32.00000</td>\n",
       "      <td>5.000000</td>\n",
       "      <td>248.100000</td>\n",
       "    </tr>\n",
       "    <tr>\n",
       "      <th>50%</th>\n",
       "      <td>47.00000</td>\n",
       "      <td>10.000000</td>\n",
       "      <td>469.045000</td>\n",
       "    </tr>\n",
       "    <tr>\n",
       "      <th>75%</th>\n",
       "      <td>64.00000</td>\n",
       "      <td>15.000000</td>\n",
       "      <td>739.660000</td>\n",
       "    </tr>\n",
       "    <tr>\n",
       "      <th>max</th>\n",
       "      <td>80.00000</td>\n",
       "      <td>20.000000</td>\n",
       "      <td>999.150000</td>\n",
       "    </tr>\n",
       "  </tbody>\n",
       "</table>\n",
       "</div>"
      ],
      "text/plain": [
       "              age       orders        spent\n",
       "count  1000.00000  1000.000000  1000.000000\n",
       "mean     48.14500    10.036000   496.295100\n",
       "std      18.35246     6.175665   289.229235\n",
       "min      18.00000     0.000000     0.490000\n",
       "25%      32.00000     5.000000   248.100000\n",
       "50%      47.00000    10.000000   469.045000\n",
       "75%      64.00000    15.000000   739.660000\n",
       "max      80.00000    20.000000   999.150000"
      ]
     },
     "execution_count": 11,
     "metadata": {},
     "output_type": "execute_result"
    }
   ],
   "source": [
    "csv.info()\n",
    "csv.describe()"
   ]
  },
  {
   "cell_type": "code",
   "execution_count": 12,
   "id": "bd380906",
   "metadata": {},
   "outputs": [
    {
     "data": {
      "text/html": [
       "<div>\n",
       "<style scoped>\n",
       "    .dataframe tbody tr th:only-of-type {\n",
       "        vertical-align: middle;\n",
       "    }\n",
       "\n",
       "    .dataframe tbody tr th {\n",
       "        vertical-align: top;\n",
       "    }\n",
       "\n",
       "    .dataframe thead th {\n",
       "        text-align: right;\n",
       "    }\n",
       "</style>\n",
       "<table border=\"1\" class=\"dataframe\">\n",
       "  <thead>\n",
       "    <tr style=\"text-align: right;\">\n",
       "      <th></th>\n",
       "      <th>first_name</th>\n",
       "      <th>last_name</th>\n",
       "      <th>email</th>\n",
       "      <th>phone</th>\n",
       "      <th>address</th>\n",
       "      <th>gender</th>\n",
       "      <th>age</th>\n",
       "      <th>registered</th>\n",
       "      <th>orders</th>\n",
       "      <th>spent</th>\n",
       "      <th>job</th>\n",
       "      <th>hobbies</th>\n",
       "      <th>is_married</th>\n",
       "    </tr>\n",
       "  </thead>\n",
       "  <tbody>\n",
       "    <tr>\n",
       "      <th>0</th>\n",
       "      <td>Joseph</td>\n",
       "      <td>Rice</td>\n",
       "      <td>josephrice131@slingacademy.com</td>\n",
       "      <td>+1-800-040-3135x6208</td>\n",
       "      <td>91773 Miller Shoal\\nDiaztown, FL 38841</td>\n",
       "      <td>male</td>\n",
       "      <td>43</td>\n",
       "      <td>2019-05-05</td>\n",
       "      <td>7</td>\n",
       "      <td>568.29</td>\n",
       "      <td>Artist</td>\n",
       "      <td>Playing sports</td>\n",
       "      <td>False</td>\n",
       "    </tr>\n",
       "    <tr>\n",
       "      <th>1</th>\n",
       "      <td>Gary</td>\n",
       "      <td>Moore</td>\n",
       "      <td>garymoore386@slingacademy.com</td>\n",
       "      <td>221.945.4191x8872</td>\n",
       "      <td>6450 John Lodge\\nTerriton, KY 95945</td>\n",
       "      <td>male</td>\n",
       "      <td>71</td>\n",
       "      <td>2020-05-20</td>\n",
       "      <td>11</td>\n",
       "      <td>568.92</td>\n",
       "      <td>Artist</td>\n",
       "      <td>Swimming</td>\n",
       "      <td>True</td>\n",
       "    </tr>\n",
       "    <tr>\n",
       "      <th>2</th>\n",
       "      <td>John</td>\n",
       "      <td>Walker</td>\n",
       "      <td>johnwalker944@slingacademy.com</td>\n",
       "      <td>388-142-4883x5370</td>\n",
       "      <td>27265 Murray Island\\nKevinfort, PA 63231</td>\n",
       "      <td>male</td>\n",
       "      <td>44</td>\n",
       "      <td>2020-04-04</td>\n",
       "      <td>11</td>\n",
       "      <td>497.12</td>\n",
       "      <td>Clerk</td>\n",
       "      <td>Painting</td>\n",
       "      <td>False</td>\n",
       "    </tr>\n",
       "    <tr>\n",
       "      <th>3</th>\n",
       "      <td>Eric</td>\n",
       "      <td>Carter</td>\n",
       "      <td>ericcarter176@slingacademy.com</td>\n",
       "      <td>(451)259-5402</td>\n",
       "      <td>USNS Knight\\nFPO AA 76532</td>\n",
       "      <td>male</td>\n",
       "      <td>38</td>\n",
       "      <td>2019-01-30</td>\n",
       "      <td>17</td>\n",
       "      <td>834.60</td>\n",
       "      <td>Butcher</td>\n",
       "      <td>Playing musical instruments</td>\n",
       "      <td>False</td>\n",
       "    </tr>\n",
       "    <tr>\n",
       "      <th>4</th>\n",
       "      <td>William</td>\n",
       "      <td>Jackson</td>\n",
       "      <td>williamjackson427@slingacademy.com</td>\n",
       "      <td>625.626.9133x374</td>\n",
       "      <td>170 Jackson Loaf\\nKristenland, AS 48876</td>\n",
       "      <td>male</td>\n",
       "      <td>58</td>\n",
       "      <td>2022-07-01</td>\n",
       "      <td>14</td>\n",
       "      <td>151.59</td>\n",
       "      <td>Engineer</td>\n",
       "      <td>Reading</td>\n",
       "      <td>False</td>\n",
       "    </tr>\n",
       "  </tbody>\n",
       "</table>\n",
       "</div>"
      ],
      "text/plain": [
       "  first_name last_name                               email  \\\n",
       "0     Joseph      Rice      josephrice131@slingacademy.com   \n",
       "1       Gary     Moore       garymoore386@slingacademy.com   \n",
       "2       John    Walker      johnwalker944@slingacademy.com   \n",
       "3       Eric    Carter      ericcarter176@slingacademy.com   \n",
       "4    William   Jackson  williamjackson427@slingacademy.com   \n",
       "\n",
       "                  phone                                   address gender  age  \\\n",
       "0  +1-800-040-3135x6208    91773 Miller Shoal\\nDiaztown, FL 38841   male   43   \n",
       "1     221.945.4191x8872       6450 John Lodge\\nTerriton, KY 95945   male   71   \n",
       "2     388-142-4883x5370  27265 Murray Island\\nKevinfort, PA 63231   male   44   \n",
       "3         (451)259-5402                 USNS Knight\\nFPO AA 76532   male   38   \n",
       "4      625.626.9133x374   170 Jackson Loaf\\nKristenland, AS 48876   male   58   \n",
       "\n",
       "   registered  orders   spent       job                      hobbies  \\\n",
       "0  2019-05-05       7  568.29    Artist               Playing sports   \n",
       "1  2020-05-20      11  568.92    Artist                     Swimming   \n",
       "2  2020-04-04      11  497.12     Clerk                     Painting   \n",
       "3  2019-01-30      17  834.60   Butcher  Playing musical instruments   \n",
       "4  2022-07-01      14  151.59  Engineer                      Reading   \n",
       "\n",
       "   is_married  \n",
       "0       False  \n",
       "1        True  \n",
       "2       False  \n",
       "3       False  \n",
       "4       False  "
      ]
     },
     "execution_count": 12,
     "metadata": {},
     "output_type": "execute_result"
    }
   ],
   "source": [
    "csv.head()"
   ]
  },
  {
   "cell_type": "code",
   "execution_count": 13,
   "id": "aff994b0",
   "metadata": {},
   "outputs": [
    {
     "data": {
      "text/plain": [
       "first_name    0\n",
       "last_name     0\n",
       "email         0\n",
       "phone         0\n",
       "address       0\n",
       "gender        0\n",
       "age           0\n",
       "registered    0\n",
       "orders        0\n",
       "spent         0\n",
       "job           0\n",
       "hobbies       0\n",
       "is_married    0\n",
       "dtype: int64"
      ]
     },
     "execution_count": 13,
     "metadata": {},
     "output_type": "execute_result"
    }
   ],
   "source": [
    "csv.isnull().sum()"
   ]
  },
  {
   "cell_type": "code",
   "execution_count": 14,
   "id": "6854ef65",
   "metadata": {},
   "outputs": [
    {
     "data": {
      "text/plain": [
       "0"
      ]
     },
     "execution_count": 14,
     "metadata": {},
     "output_type": "execute_result"
    }
   ],
   "source": [
    "csv.duplicated().sum()"
   ]
  },
  {
   "cell_type": "markdown",
   "id": "f08bd3d1",
   "metadata": {},
   "source": [
    "# 3. Perform data cleaning operations, such as handling missing values, removing duplicates, or correcting inconsistencies."
   ]
  },
  {
   "cell_type": "code",
   "execution_count": 16,
   "id": "da3ce412",
   "metadata": {},
   "outputs": [
    {
     "name": "stderr",
     "output_type": "stream",
     "text": [
      "C:\\Users\\rohan\\AppData\\Local\\Temp\\ipykernel_1588\\4116971747.py:1: FutureWarning: The default value of numeric_only in DataFrame.mean is deprecated. In a future version, it will default to False. In addition, specifying 'numeric_only=None' is deprecated. Select only valid columns or specify the value of numeric_only to silence this warning.\n",
      "  csv.fillna(csv.mean(),inplace=True) #handle missing values\n"
     ]
    }
   ],
   "source": [
    "csv.fillna(csv.mean(),inplace=True) #handle missing values"
   ]
  },
  {
   "cell_type": "code",
   "execution_count": 17,
   "id": "bd8ce432",
   "metadata": {},
   "outputs": [],
   "source": [
    "#remove duplicates\n",
    "csv.drop_duplicates(inplace=True)"
   ]
  },
  {
   "cell_type": "code",
   "execution_count": 19,
   "id": "3ecf2b70",
   "metadata": {},
   "outputs": [
    {
     "data": {
      "text/plain": [
       "Index(['first_name', 'last_name', 'email', 'phone', 'address', 'gender', 'age',\n",
       "       'registered', 'orders', 'spent', 'job', 'hobbies', 'is_married'],\n",
       "      dtype='object')"
      ]
     },
     "execution_count": 19,
     "metadata": {},
     "output_type": "execute_result"
    }
   ],
   "source": [
    "csv.columns"
   ]
  },
  {
   "cell_type": "code",
   "execution_count": 24,
   "id": "5470057a",
   "metadata": {},
   "outputs": [
    {
     "name": "stderr",
     "output_type": "stream",
     "text": [
      "C:\\ProgramData\\anaconda3\\Lib\\site-packages\\pandas\\core\\dtypes\\astype.py:189: RuntimeWarning: invalid value encountered in cast\n",
      "  return values.astype(dtype, copy=copy)\n"
     ]
    }
   ],
   "source": [
    "#correcting the inconsistensy\n",
    "# Convert column to numeric, set errors='coerce' to handle non-numeric values\n",
    "\n",
    "csv['phone'] = pd.to_numeric(csv['phone'],errors='coerce').fillna(0).astype(int)\n"
   ]
  },
  {
   "cell_type": "code",
   "execution_count": 25,
   "id": "4892458b",
   "metadata": {},
   "outputs": [
    {
     "name": "stdout",
     "output_type": "stream",
     "text": [
      "<class 'pandas.core.frame.DataFrame'>\n",
      "Int64Index: 1000 entries, 0 to 999\n",
      "Data columns (total 13 columns):\n",
      " #   Column      Non-Null Count  Dtype  \n",
      "---  ------      --------------  -----  \n",
      " 0   first_name  1000 non-null   object \n",
      " 1   last_name   1000 non-null   object \n",
      " 2   email       1000 non-null   object \n",
      " 3   phone       1000 non-null   int32  \n",
      " 4   address     1000 non-null   object \n",
      " 5   gender      1000 non-null   object \n",
      " 6   age         1000 non-null   int64  \n",
      " 7   registered  1000 non-null   object \n",
      " 8   orders      1000 non-null   int64  \n",
      " 9   spent       1000 non-null   float64\n",
      " 10  job         1000 non-null   object \n",
      " 11  hobbies     1000 non-null   object \n",
      " 12  is_married  1000 non-null   bool   \n",
      "dtypes: bool(1), float64(1), int32(1), int64(2), object(8)\n",
      "memory usage: 98.6+ KB\n"
     ]
    }
   ],
   "source": [
    "csv.info()"
   ]
  },
  {
   "cell_type": "markdown",
   "id": "ef561ccc",
   "metadata": {},
   "source": [
    "# 4. Convert the data into a unified format, such as a common dataframe or data structure, to enable seamless analysis."
   ]
  },
  {
   "cell_type": "code",
   "execution_count": 26,
   "id": "d189652e",
   "metadata": {},
   "outputs": [],
   "source": [
    "all_data=pd.concat([csv,xl],ignore_index=True)"
   ]
  },
  {
   "cell_type": "code",
   "execution_count": 27,
   "id": "f428679e",
   "metadata": {},
   "outputs": [
    {
     "data": {
      "text/html": [
       "<div>\n",
       "<style scoped>\n",
       "    .dataframe tbody tr th:only-of-type {\n",
       "        vertical-align: middle;\n",
       "    }\n",
       "\n",
       "    .dataframe tbody tr th {\n",
       "        vertical-align: top;\n",
       "    }\n",
       "\n",
       "    .dataframe thead th {\n",
       "        text-align: right;\n",
       "    }\n",
       "</style>\n",
       "<table border=\"1\" class=\"dataframe\">\n",
       "  <thead>\n",
       "    <tr style=\"text-align: right;\">\n",
       "      <th></th>\n",
       "      <th>first_name</th>\n",
       "      <th>last_name</th>\n",
       "      <th>email</th>\n",
       "      <th>phone</th>\n",
       "      <th>address</th>\n",
       "      <th>gender</th>\n",
       "      <th>age</th>\n",
       "      <th>registered</th>\n",
       "      <th>orders</th>\n",
       "      <th>spent</th>\n",
       "      <th>job</th>\n",
       "      <th>hobbies</th>\n",
       "      <th>is_married</th>\n",
       "    </tr>\n",
       "  </thead>\n",
       "  <tbody>\n",
       "    <tr>\n",
       "      <th>0</th>\n",
       "      <td>Joseph</td>\n",
       "      <td>Rice</td>\n",
       "      <td>josephrice131@slingacademy.com</td>\n",
       "      <td>0</td>\n",
       "      <td>91773 Miller Shoal\\nDiaztown, FL 38841</td>\n",
       "      <td>male</td>\n",
       "      <td>43</td>\n",
       "      <td>2019-05-05</td>\n",
       "      <td>7</td>\n",
       "      <td>568.29</td>\n",
       "      <td>Artist</td>\n",
       "      <td>Playing sports</td>\n",
       "      <td>False</td>\n",
       "    </tr>\n",
       "    <tr>\n",
       "      <th>1</th>\n",
       "      <td>Gary</td>\n",
       "      <td>Moore</td>\n",
       "      <td>garymoore386@slingacademy.com</td>\n",
       "      <td>0</td>\n",
       "      <td>6450 John Lodge\\nTerriton, KY 95945</td>\n",
       "      <td>male</td>\n",
       "      <td>71</td>\n",
       "      <td>2020-05-20</td>\n",
       "      <td>11</td>\n",
       "      <td>568.92</td>\n",
       "      <td>Artist</td>\n",
       "      <td>Swimming</td>\n",
       "      <td>True</td>\n",
       "    </tr>\n",
       "    <tr>\n",
       "      <th>2</th>\n",
       "      <td>John</td>\n",
       "      <td>Walker</td>\n",
       "      <td>johnwalker944@slingacademy.com</td>\n",
       "      <td>0</td>\n",
       "      <td>27265 Murray Island\\nKevinfort, PA 63231</td>\n",
       "      <td>male</td>\n",
       "      <td>44</td>\n",
       "      <td>2020-04-04</td>\n",
       "      <td>11</td>\n",
       "      <td>497.12</td>\n",
       "      <td>Clerk</td>\n",
       "      <td>Painting</td>\n",
       "      <td>False</td>\n",
       "    </tr>\n",
       "    <tr>\n",
       "      <th>3</th>\n",
       "      <td>Eric</td>\n",
       "      <td>Carter</td>\n",
       "      <td>ericcarter176@slingacademy.com</td>\n",
       "      <td>0</td>\n",
       "      <td>USNS Knight\\nFPO AA 76532</td>\n",
       "      <td>male</td>\n",
       "      <td>38</td>\n",
       "      <td>2019-01-30</td>\n",
       "      <td>17</td>\n",
       "      <td>834.60</td>\n",
       "      <td>Butcher</td>\n",
       "      <td>Playing musical instruments</td>\n",
       "      <td>False</td>\n",
       "    </tr>\n",
       "    <tr>\n",
       "      <th>4</th>\n",
       "      <td>William</td>\n",
       "      <td>Jackson</td>\n",
       "      <td>williamjackson427@slingacademy.com</td>\n",
       "      <td>0</td>\n",
       "      <td>170 Jackson Loaf\\nKristenland, AS 48876</td>\n",
       "      <td>male</td>\n",
       "      <td>58</td>\n",
       "      <td>2022-07-01</td>\n",
       "      <td>14</td>\n",
       "      <td>151.59</td>\n",
       "      <td>Engineer</td>\n",
       "      <td>Reading</td>\n",
       "      <td>False</td>\n",
       "    </tr>\n",
       "  </tbody>\n",
       "</table>\n",
       "</div>"
      ],
      "text/plain": [
       "  first_name last_name                               email phone  \\\n",
       "0     Joseph      Rice      josephrice131@slingacademy.com     0   \n",
       "1       Gary     Moore       garymoore386@slingacademy.com     0   \n",
       "2       John    Walker      johnwalker944@slingacademy.com     0   \n",
       "3       Eric    Carter      ericcarter176@slingacademy.com     0   \n",
       "4    William   Jackson  williamjackson427@slingacademy.com     0   \n",
       "\n",
       "                                    address gender  age  registered  orders  \\\n",
       "0    91773 Miller Shoal\\nDiaztown, FL 38841   male   43  2019-05-05       7   \n",
       "1       6450 John Lodge\\nTerriton, KY 95945   male   71  2020-05-20      11   \n",
       "2  27265 Murray Island\\nKevinfort, PA 63231   male   44  2020-04-04      11   \n",
       "3                 USNS Knight\\nFPO AA 76532   male   38  2019-01-30      17   \n",
       "4   170 Jackson Loaf\\nKristenland, AS 48876   male   58  2022-07-01      14   \n",
       "\n",
       "    spent       job                      hobbies  is_married  \n",
       "0  568.29    Artist               Playing sports       False  \n",
       "1  568.92    Artist                     Swimming        True  \n",
       "2  497.12     Clerk                     Painting       False  \n",
       "3  834.60   Butcher  Playing musical instruments       False  \n",
       "4  151.59  Engineer                      Reading       False  "
      ]
     },
     "execution_count": 27,
     "metadata": {},
     "output_type": "execute_result"
    }
   ],
   "source": [
    "all_data.head()"
   ]
  },
  {
   "cell_type": "markdown",
   "id": "292cb630",
   "metadata": {},
   "source": [
    "# 5. Perform data transformation tasks, such as merging multiple datasets, splitting columns, or deriving new variables"
   ]
  },
  {
   "cell_type": "code",
   "execution_count": 28,
   "id": "5ffde81d",
   "metadata": {},
   "outputs": [],
   "source": [
    "# Convert Order Date to datetime format\n",
    "all_data['registered']=pd.to_datetime(all_data['registered'])"
   ]
  },
  {
   "cell_type": "code",
   "execution_count": 29,
   "id": "c0ef8d54",
   "metadata": {},
   "outputs": [
    {
     "name": "stdout",
     "output_type": "stream",
     "text": [
      "<class 'pandas.core.frame.DataFrame'>\n",
      "RangeIndex: 2000 entries, 0 to 1999\n",
      "Data columns (total 13 columns):\n",
      " #   Column      Non-Null Count  Dtype         \n",
      "---  ------      --------------  -----         \n",
      " 0   first_name  2000 non-null   object        \n",
      " 1   last_name   2000 non-null   object        \n",
      " 2   email       2000 non-null   object        \n",
      " 3   phone       2000 non-null   object        \n",
      " 4   address     2000 non-null   object        \n",
      " 5   gender      2000 non-null   object        \n",
      " 6   age         2000 non-null   int64         \n",
      " 7   registered  2000 non-null   datetime64[ns]\n",
      " 8   orders      2000 non-null   int64         \n",
      " 9   spent       2000 non-null   float64       \n",
      " 10  job         2000 non-null   object        \n",
      " 11  hobbies     2000 non-null   object        \n",
      " 12  is_married  2000 non-null   bool          \n",
      "dtypes: bool(1), datetime64[ns](1), float64(1), int64(2), object(8)\n",
      "memory usage: 189.6+ KB\n"
     ]
    }
   ],
   "source": [
    "all_data.info()"
   ]
  },
  {
   "cell_type": "code",
   "execution_count": 30,
   "id": "f48d0e83",
   "metadata": {},
   "outputs": [],
   "source": [
    "# Convert 'is_married' to boolean\n",
    "all_data['is_married'] = all_data['is_married'].astype(bool)"
   ]
  },
  {
   "cell_type": "code",
   "execution_count": 31,
   "id": "49733c7a",
   "metadata": {},
   "outputs": [],
   "source": [
    "#Splitting Full Name Columns\n",
    "all_data['full_name']=all_data['first_name']+' '+all_data['last_name']"
   ]
  },
  {
   "cell_type": "code",
   "execution_count": 32,
   "id": "12b74ef3",
   "metadata": {},
   "outputs": [
    {
     "data": {
      "text/plain": [
       "0           Joseph Rice\n",
       "1            Gary Moore\n",
       "2           John Walker\n",
       "3           Eric Carter\n",
       "4       William Jackson\n",
       "             ...       \n",
       "1995    Alexis Williams\n",
       "1996       Karen Mendez\n",
       "1997     Michaela Smith\n",
       "1998     Kathleen Scott\n",
       "1999        Carl Acosta\n",
       "Name: full_name, Length: 2000, dtype: object"
      ]
     },
     "execution_count": 32,
     "metadata": {},
     "output_type": "execute_result"
    }
   ],
   "source": [
    "all_data['full_name']"
   ]
  },
  {
   "cell_type": "markdown",
   "id": "5517b60e",
   "metadata": {},
   "source": [
    "# 6: Analyze the sales data"
   ]
  },
  {
   "cell_type": "code",
   "execution_count": 33,
   "id": "0c387c2b",
   "metadata": {},
   "outputs": [
    {
     "data": {
      "text/html": [
       "<div>\n",
       "<style scoped>\n",
       "    .dataframe tbody tr th:only-of-type {\n",
       "        vertical-align: middle;\n",
       "    }\n",
       "\n",
       "    .dataframe tbody tr th {\n",
       "        vertical-align: top;\n",
       "    }\n",
       "\n",
       "    .dataframe thead th {\n",
       "        text-align: right;\n",
       "    }\n",
       "</style>\n",
       "<table border=\"1\" class=\"dataframe\">\n",
       "  <thead>\n",
       "    <tr style=\"text-align: right;\">\n",
       "      <th></th>\n",
       "      <th>age</th>\n",
       "      <th>orders</th>\n",
       "      <th>spent</th>\n",
       "    </tr>\n",
       "  </thead>\n",
       "  <tbody>\n",
       "    <tr>\n",
       "      <th>count</th>\n",
       "      <td>2000.000000</td>\n",
       "      <td>2000.00000</td>\n",
       "      <td>2000.000000</td>\n",
       "    </tr>\n",
       "    <tr>\n",
       "      <th>mean</th>\n",
       "      <td>48.145000</td>\n",
       "      <td>10.03600</td>\n",
       "      <td>496.295100</td>\n",
       "    </tr>\n",
       "    <tr>\n",
       "      <th>std</th>\n",
       "      <td>18.347869</td>\n",
       "      <td>6.17412</td>\n",
       "      <td>289.156882</td>\n",
       "    </tr>\n",
       "    <tr>\n",
       "      <th>min</th>\n",
       "      <td>18.000000</td>\n",
       "      <td>0.00000</td>\n",
       "      <td>0.490000</td>\n",
       "    </tr>\n",
       "    <tr>\n",
       "      <th>25%</th>\n",
       "      <td>32.000000</td>\n",
       "      <td>5.00000</td>\n",
       "      <td>248.100000</td>\n",
       "    </tr>\n",
       "    <tr>\n",
       "      <th>50%</th>\n",
       "      <td>47.000000</td>\n",
       "      <td>10.00000</td>\n",
       "      <td>469.045000</td>\n",
       "    </tr>\n",
       "    <tr>\n",
       "      <th>75%</th>\n",
       "      <td>64.000000</td>\n",
       "      <td>15.00000</td>\n",
       "      <td>739.660000</td>\n",
       "    </tr>\n",
       "    <tr>\n",
       "      <th>max</th>\n",
       "      <td>80.000000</td>\n",
       "      <td>20.00000</td>\n",
       "      <td>999.150000</td>\n",
       "    </tr>\n",
       "  </tbody>\n",
       "</table>\n",
       "</div>"
      ],
      "text/plain": [
       "               age      orders        spent\n",
       "count  2000.000000  2000.00000  2000.000000\n",
       "mean     48.145000    10.03600   496.295100\n",
       "std      18.347869     6.17412   289.156882\n",
       "min      18.000000     0.00000     0.490000\n",
       "25%      32.000000     5.00000   248.100000\n",
       "50%      47.000000    10.00000   469.045000\n",
       "75%      64.000000    15.00000   739.660000\n",
       "max      80.000000    20.00000   999.150000"
      ]
     },
     "execution_count": 33,
     "metadata": {},
     "output_type": "execute_result"
    }
   ],
   "source": [
    "#stats\n",
    "all_data.describe()"
   ]
  },
  {
   "cell_type": "markdown",
   "id": "01793567",
   "metadata": {},
   "source": [
    "# 7. Create visualization"
   ]
  },
  {
   "cell_type": "code",
   "execution_count": 34,
   "id": "d9cbcec4",
   "metadata": {},
   "outputs": [],
   "source": [
    "import matplotlib.pyplot as plt\n",
    "import seaborn as sns"
   ]
  },
  {
   "cell_type": "code",
   "execution_count": 35,
   "id": "ca21eb82",
   "metadata": {},
   "outputs": [],
   "source": [
    "# total sales by product category\n",
    "if 'category' in all_data.columns:\n",
    "    total_sales_by_category=all_data.groupby('category')['spent'].sum().reset_index()\n",
    "    \n",
    "    plt.figure(figsize=(10,6))\n",
    "    sns.barplot(x='category',y='spent',data=total_sales_by_category)\n",
    "    plt.tile('total_sales_by_category')\n",
    "    plt.xlabel('product category')\n",
    "    plt.ylabel('total sales')\n",
    "    plt.show()"
   ]
  },
  {
   "cell_type": "code",
   "execution_count": 36,
   "id": "44948c69",
   "metadata": {},
   "outputs": [],
   "source": [
    "if 'category' in all_data.columns:\n",
    "    category_distribution = all_data['category'].value_counts()\n",
    "    \n",
    "    plt.figure(figsize=(8, 8))\n",
    "    plt.pie(category_distribution, labels=category_distribution.index, autopct='%1.1f%%', startangle=140)\n",
    "    plt.title('Product Category Distribution')\n",
    "    plt.axis('equal')  # Equal aspect ratio ensures the pie chart is circular.\n",
    "    plt.show()"
   ]
  },
  {
   "cell_type": "code",
   "execution_count": 37,
   "id": "dd0b7060",
   "metadata": {},
   "outputs": [
    {
     "data": {
      "image/png": "[encoded data removed]",
      "text/plain": [
       "<Figure size 1000x600 with 1 Axes>"
      ]
     },
     "metadata": {},
     "output_type": "display_data"
    }
   ],
   "source": [
    "# Histogram to show distribution of customer ages\n",
    "plt.figure(figsize=(10, 6))\n",
    "sns.histplot(all_data['age'], bins=20, kde=True)\n",
    "plt.title('Distribution of Customer Ages')\n",
    "plt.xlabel('Age')\n",
    "plt.ylabel('Frequency')\n",
    "plt.show()"
   ]
  },
  {
   "cell_type": "code",
   "execution_count": 38,
   "id": "bd3d1e5b",
   "metadata": {},
   "outputs": [
    {
     "data": {
      "image/png": "[encoded data removed]",
      "text/plain": [
       "<Figure size 1000x600 with 1 Axes>"
      ]
     },
     "metadata": {},
     "output_type": "display_data"
    }
   ],
   "source": [
    "# Box plot to show sales distribution by gender\n",
    "plt.figure(figsize=(10, 6))\n",
    "sns.boxplot(x='gender', y='spent', data=all_data)\n",
    "plt.title('Sales Distribution by Gender')\n",
    "plt.xlabel('Gender')\n",
    "plt.ylabel('Spent Amount')\n",
    "plt.show()\n"
   ]
  },
  {
   "cell_type": "code",
   "execution_count": null,
   "id": "aafa7796",
   "metadata": {},
   "outputs": [],
   "source": []
  },
  {
   "cell_type": "code",
   "execution_count": null,
   "id": "f8d10056",
   "metadata": {},
   "outputs": [],
   "source": []
  }
 ],
 "metadata": {
  "kernelspec": {
   "display_name": "Python 3 (ipykernel)",
   "language": "python",
   "name": "python3"
  },
  "language_info": {
   "codemirror_mode": {
    "name": "ipython",
    "version": 3
   },
   "file_extension": ".py",
   "mimetype": "text/x-python",
   "name": "python",
   "nbconvert_exporter": "python",
   "pygments_lexer": "ipython3",
   "version": "3.11.4"
  }
 },
 "nbformat": 4,
 "nbformat_minor": 5
}
